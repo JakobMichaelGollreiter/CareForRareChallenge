{
 "cells": [
  {
   "cell_type": "code",
   "execution_count": 1,
   "metadata": {},
   "outputs": [],
   "source": [
    "import utils\n",
    "import os\n",
    "import pandas as pd"
   ]
  },
  {
   "cell_type": "code",
   "execution_count": 2,
   "metadata": {},
   "outputs": [],
   "source": [
    "HP_PATH = 'data/hp.obo'\n",
    "DIAGNOSES_ICD_HPO_PATH = 'data/DIAGNOSES_ICD_HPO.csv'\n",
    "LABEVENTS_HPO_PATH = 'data/LABEVENTS_HPO.csv'"
   ]
  },
  {
   "cell_type": "code",
   "execution_count": 3,
   "metadata": {},
   "outputs": [],
   "source": [
    "# download hp.obo if it is not already\n",
    "if not os.path.isfile(HP_PATH):\n",
    "    import requests  # for downloading the hpo\n",
    "    r = requests.get('http://purl.obolibrary.org/obo/hp.obo')\n",
    "    with open(HP_PATH, 'wb') as f:\n",
    "        f.write(r.content)\n",
    "    del r"
   ]
  },
  {
   "cell_type": "code",
   "execution_count": 4,
   "metadata": {},
   "outputs": [],
   "source": [
    "hpo = utils.read_hpo_from_obo(HP_PATH)\n"
   ]
  },
  {
   "cell_type": "code",
   "execution_count": 22,
   "metadata": {},
   "outputs": [
    {
     "name": "stdout",
     "output_type": "stream",
     "text": [
      "[<Entry HP:0000005 \"Mode of inheritance\">, <Entry HP:0000118 \"Phenotypic abnormality\">, <Entry HP:0012823 \"Clinical modifier\">, <Entry HP:0032223 \"Blood group\">, <Entry HP:0032443 \"Past medical history\">, <Entry HP:0040279 \"Frequency\">]\n",
      "\"The presence of nipples that instead of pointing outward are retracted inwards.\" [HPO:sdoelken]\n"
     ]
    }
   ],
   "source": [
    "print(hpo.root._children)\n",
    "random_entry = hpo.root._children[1]._children[5]._children[0]._children[1]._children[2]\n",
    "print(random_entry.other_tags['def'][0])"
   ]
  },
  {
   "cell_type": "code",
   "execution_count": 5,
   "metadata": {},
   "outputs": [],
   "source": [
    "labevents = pd.read_csv(LABEVENTS_HPO_PATH)\n",
    "diagnoses = pd.read_csv(DIAGNOSES_ICD_HPO_PATH)"
   ]
  }
 ],
 "metadata": {
  "interpreter": {
   "hash": "f7e022b67859ae4a791bbcc1c75bde8b3a5bef3b9abb0060fdb4399d638fb2f6"
  },
  "kernelspec": {
   "display_name": "Python 3.9.12 64-bit",
   "language": "python",
   "name": "python3"
  },
  "language_info": {
   "codemirror_mode": {
    "name": "ipython",
    "version": 3
   },
   "file_extension": ".py",
   "mimetype": "text/x-python",
   "name": "python",
   "nbconvert_exporter": "python",
   "pygments_lexer": "ipython3",
   "version": "3.9.12"
  },
  "orig_nbformat": 4
 },
 "nbformat": 4,
 "nbformat_minor": 2
}
