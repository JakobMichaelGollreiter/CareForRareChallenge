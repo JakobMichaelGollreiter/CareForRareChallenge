{
 "cells": [
  {
   "cell_type": "code",
   "execution_count": null,
   "metadata": {},
   "outputs": [],
   "source": [
    "import utils\n",
    "import os"
   ]
  },
  {
   "cell_type": "code",
   "execution_count": null,
   "metadata": {},
   "outputs": [],
   "source": [
    "HP_PATH = 'data/hp.obo'\n",
    "\n",
    "LABITEMS_PATH = 'data/D_LABITEMS.csv'\n",
    "ANNOTATION_PATH = 'data/loinc2hpo-annotations.tsv'\n",
    "LABEVENTS_PATH = 'data/LABEVENTS.csv'\n",
    "\n",
    "LABEVENTS_HPO_PATH = 'data/OUT_LABEVENTS_HPO.csv'\n"
   ]
  },
  {
   "cell_type": "code",
   "execution_count": null,
   "metadata": {},
   "outputs": [],
   "source": [
    "def download_if_not_already(path: str, url: str):\n",
    "    if not os.path.isfile(path):\n",
    "        import requests  # for downloading the hpo\n",
    "        r = requests.get(url)\n",
    "        with open(path, 'wb') as f:\n",
    "            f.write(r.content)\n"
   ]
  },
  {
   "cell_type": "code",
   "execution_count": null,
   "metadata": {},
   "outputs": [],
   "source": [
    "# download hp.obo if it is not already\n",
    "download_if_not_already(HP_PATH, 'http://purl.obolibrary.org/obo/hp.obo')\n",
    "download_if_not_already(ANNOTATION_PATH, 'https://raw.githubusercontent.com/TheJacksonLaboratory/loinc2hpoAnnotation/master/loinc2hpo-annotations.tsv')\n",
    "download_if_not_already(LABITEMS_PATH, 'https://physionet.org/files/mimiciii-demo/1.4/D_LABITEMS.csv')\n",
    "download_if_not_already(LABEVENTS_PATH, 'https://physionet.org/files/mimiciii-demo/1.4/LABEVENTS.csv')"
   ]
  },
  {
   "cell_type": "code",
   "execution_count": null,
   "metadata": {},
   "outputs": [],
   "source": [
    "if not os.path.isfile(LABEVENTS_HPO_PATH):\n",
    "    utils.add_hpo_information(\n",
    "        LABITEMS_PATH, LABEVENTS_PATH,  ANNOTATION_PATH, LABEVENTS_HPO_PATH)\n"
   ]
  },
  {
   "cell_type": "code",
   "execution_count": null,
   "metadata": {},
   "outputs": [],
   "source": [
    "hpo = utils.read_hpo_from_obo(HP_PATH)\n"
   ]
  },
  {
   "cell_type": "code",
   "execution_count": null,
   "metadata": {},
   "outputs": [],
   "source": [
    "g = utils.make_graph_to_depth(hpo.entries_by_id['HP:0000001'], 1)\n",
    "print(hpo.root.other_tags)\n",
    "g"
   ]
  },
  {
   "cell_type": "code",
   "execution_count": null,
   "metadata": {},
   "outputs": [],
   "source": []
  }
 ],
 "metadata": {
  "interpreter": {
   "hash": "f7e022b67859ae4a791bbcc1c75bde8b3a5bef3b9abb0060fdb4399d638fb2f6"
  },
  "kernelspec": {
   "display_name": "Python 3 (ipykernel)",
   "language": "python",
   "name": "python3"
  },
  "language_info": {
   "codemirror_mode": {
    "name": "ipython",
    "version": 3
   },
   "file_extension": ".py",
   "mimetype": "text/x-python",
   "name": "python",
   "nbconvert_exporter": "python",
   "pygments_lexer": "ipython3",
   "version": "3.9.7"
  }
 },
 "nbformat": 4,
 "nbformat_minor": 2
}
