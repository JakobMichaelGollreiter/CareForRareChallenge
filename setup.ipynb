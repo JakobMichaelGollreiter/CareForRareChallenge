{
 "cells": [
  {
   "cell_type": "markdown",
   "metadata": {},
   "source": [
    "# Notebook to download and preprocess data\n",
    "\n",
    "This notebooks downloads the necessary data for our model training. And inserts the HPO features in the labevents file.\n"
   ]
  },
  {
   "cell_type": "code",
   "execution_count": null,
   "metadata": {},
   "outputs": [],
   "source": [
    "import utils\n",
    "import os"
   ]
  },
  {
   "cell_type": "code",
   "execution_count": null,
   "metadata": {},
   "outputs": [],
   "source": [
    "HP_PATH = 'data/hp.obo'\n",
    "\n",
    "LABITEMS_PATH = 'data/D_LABITEMS.csv'\n",
    "ANNOTATION_PATH = 'data/loinc2hpo-annotations.tsv'\n",
    "LABEVENTS_PATH = 'data/LABEVENTS.csv'\n",
    "\n",
    "LABEVENTS_HPO_PATH = 'data/OUT_LABEVENTS_HPO.csv'\n",
    "\n",
    "# ICD_TO_HPO_PATH = 'data/semiautomatic_ICD-pheno.tsv'"
   ]
  },
  {
   "cell_type": "markdown",
   "metadata": {},
   "source": [
    "### Download Data\n",
    "\n",
    "Download all files if they are not downloaded already."
   ]
  },
  {
   "cell_type": "code",
   "execution_count": null,
   "metadata": {},
   "outputs": [],
   "source": [
    "def download_if_not_already(path: str, url: str, extract: bool=False):\n",
    "    if not os.path.isfile(path):\n",
    "        print(f'Downloading {path}')\n",
    "        import requests  # for downloading the hpo\n",
    "        r:requests.Response = requests.get(url)\n",
    "        b:bytes  = r.content\n",
    "        if extract:\n",
    "            print(f'Extracting {path}')\n",
    "            import gzip\n",
    "            b = gzip.decompress(b)\n",
    "        with open(path, 'wb') as f:\n",
    "            f.write(b)\n"
   ]
  },
  {
   "cell_type": "code",
   "execution_count": null,
   "metadata": {},
   "outputs": [],
   "source": [
    "download_if_not_already(HP_PATH, 'http://purl.obolibrary.org/obo/hp.obo')\n",
    "download_if_not_already(ANNOTATION_PATH, 'https://raw.githubusercontent.com/TheJacksonLaboratory/loinc2hpoAnnotation/master/loinc2hpo-annotations.tsv')\n",
    "download_if_not_already(LABITEMS_PATH, 'https://physionet.org/files/mimiciii-demo/1.4/D_LABITEMS.csv')\n",
    "download_if_not_already(LABEVENTS_PATH, 'https://physionet.org/files/mimiciii-demo/1.4/LABEVENTS.csv')\n",
    "# download_if_not_already(ICD_TO_HPO_PATH , 'https://zenodo.org/record/4726714/files/semiautomatic_ICD-pheno.txt.gz?download=1', extract = True)\n"
   ]
  },
  {
   "cell_type": "markdown",
   "metadata": {},
   "source": [
    "### Process data\n",
    "\n",
    "This steps annotates the labevents with the corresponding HPO features based on the LOINC to HPO mapping.\n"
   ]
  },
  {
   "cell_type": "code",
   "execution_count": 8,
   "metadata": {},
   "outputs": [],
   "source": [
    "if not os.path.isfile(LABEVENTS_HPO_PATH):\n",
    "    utils.add_hpo_information(\n",
    "        LABITEMS_PATH, LABEVENTS_PATH,  ANNOTATION_PATH, LABEVENTS_HPO_PATH)\n"
   ]
  }
 ],
 "metadata": {
  "interpreter": {
   "hash": "f7e022b67859ae4a791bbcc1c75bde8b3a5bef3b9abb0060fdb4399d638fb2f6"
  },
  "kernelspec": {
   "display_name": "Python 3 (ipykernel)",
   "language": "python",
   "name": "python3"
  },
  "language_info": {
   "codemirror_mode": {
    "name": "ipython",
    "version": 3
   },
   "file_extension": ".py",
   "mimetype": "text/x-python",
   "name": "python",
   "nbconvert_exporter": "python",
   "pygments_lexer": "ipython3",
   "version": "3.10.4"
  }
 },
 "nbformat": 4,
 "nbformat_minor": 2
}
