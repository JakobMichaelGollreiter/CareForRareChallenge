{
 "cells": [
  {
   "cell_type": "code",
   "execution_count": 1,
   "metadata": {},
   "outputs": [],
   "source": [
    "import utils\n",
    "import os"
   ]
  },
  {
   "cell_type": "code",
   "execution_count": 2,
   "metadata": {},
   "outputs": [],
   "source": [
    "HP_PATH = 'data/hp.obo'\n",
    "\n",
    "LABITEMS_PATH = 'data/D_LABITEMS.csv'\n",
    "ANNOTATION_PATH = 'data/loinc2hpo-annotations.tsv'\n",
    "LABEVENTS_PATH = 'data/LABEVENTS.csv'\n",
    "\n",
    "LABEVENTS_HPO_PATH = 'data/OUT_LABEVENTS_HPO.csv'\n",
    "\n",
    "ICD_TO_HPO_PATH = 'data/semiautomatic_ICD-pheno.tsv'"
   ]
  },
  {
   "cell_type": "code",
   "execution_count": 6,
   "metadata": {},
   "outputs": [],
   "source": [
    "def download_if_not_already(path: str, url: str, extract: bool=False):\n",
    "    if not os.path.isfile(path):\n",
    "        print(f'downloading {path}')\n",
    "        import requests  # for downloading the hpo\n",
    "        r:requests.Response = requests.get(url)\n",
    "        b:bytes  = r.content\n",
    "        if extract:\n",
    "            print(f'extracting {path}')\n",
    "            import gzip\n",
    "            b = gzip.decompress(b)\n",
    "        with open(path, 'wb') as f:\n",
    "            f.write(b)\n"
   ]
  },
  {
   "cell_type": "code",
   "execution_count": 7,
   "metadata": {},
   "outputs": [
    {
     "name": "stdout",
     "output_type": "stream",
     "text": [
      "downloading data/semiautomatic_ICD-pheno.tsv\n",
      "extracting data/semiautomatic_ICD-pheno.tsv\n"
     ]
    }
   ],
   "source": [
    "download_if_not_already(HP_PATH, 'http://purl.obolibrary.org/obo/hp.obo')\n",
    "download_if_not_already(ANNOTATION_PATH, 'https://raw.githubusercontent.com/TheJacksonLaboratory/loinc2hpoAnnotation/master/loinc2hpo-annotations.tsv')\n",
    "download_if_not_already(LABITEMS_PATH, 'https://physionet.org/files/mimiciii-demo/1.4/D_LABITEMS.csv')\n",
    "download_if_not_already(LABEVENTS_PATH, 'https://physionet.org/files/mimiciii-demo/1.4/LABEVENTS.csv')\n",
    "download_if_not_already(ICD_TO_HPO_PATH , 'https://zenodo.org/record/4726714/files/semiautomatic_ICD-pheno.txt.gz?download=1', extract = True)\n"
   ]
  },
  {
   "cell_type": "code",
   "execution_count": null,
   "metadata": {},
   "outputs": [],
   "source": [
    "if not os.path.isfile(LABEVENTS_HPO_PATH):\n",
    "    utils.add_hpo_information(\n",
    "        LABITEMS_PATH, LABEVENTS_PATH,  ANNOTATION_PATH, LABEVENTS_HPO_PATH)\n"
   ]
  },
  {
   "cell_type": "code",
   "execution_count": null,
   "metadata": {},
   "outputs": [],
   "source": [
    "hpo = utils.read_hpo_from_obo(HP_PATH)\n"
   ]
  },
  {
   "cell_type": "code",
   "execution_count": null,
   "metadata": {},
   "outputs": [],
   "source": [
    "g = utils.make_graph_to_depth(hpo.entries_by_id['HP:0000001'], 1)\n",
    "print(hpo.root.other_tags)\n",
    "g"
   ]
  },
  {
   "cell_type": "code",
   "execution_count": null,
   "metadata": {},
   "outputs": [],
   "source": []
  }
 ],
 "metadata": {
  "interpreter": {
   "hash": "f7e022b67859ae4a791bbcc1c75bde8b3a5bef3b9abb0060fdb4399d638fb2f6"
  },
  "kernelspec": {
   "display_name": "Python 3 (ipykernel)",
   "language": "python",
   "name": "python3"
  },
  "language_info": {
   "codemirror_mode": {
    "name": "ipython",
    "version": 3
   },
   "file_extension": ".py",
   "mimetype": "text/x-python",
   "name": "python",
   "nbconvert_exporter": "python",
   "pygments_lexer": "ipython3",
   "version": "3.10.4"
  }
 },
 "nbformat": 4,
 "nbformat_minor": 2
}
