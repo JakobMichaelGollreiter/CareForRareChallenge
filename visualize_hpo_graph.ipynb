{
 "cells": [
  {
   "cell_type": "markdown",
   "metadata": {},
   "source": [
    "# Notebook to visualize HPO features\n",
    "\n",
    "Generates a graphical representation of the HPO Features of one patient.\n",
    "Only displays active features and their parent features.\n",
    "\n",
    "To generate the graphs ensure the graphviz executable is installed and available on the path\n",
    "(ie. typing something like `dot -V` in the terminal works).\n"
   ]
  },
  {
   "cell_type": "code",
   "execution_count": null,
   "metadata": {},
   "outputs": [],
   "source": [
    "import nn_data\n",
    "import utils"
   ]
  },
  {
   "cell_type": "code",
   "execution_count": null,
   "metadata": {},
   "outputs": [],
   "source": [
    "HPO_PATH = 'data/hp.obo'\n",
    "LABEVENTS_HPO_PATH = 'data/OUT_LABEVENTS_HPO.csv'\n",
    "DIAGNOSES_HPO_PATH = 'data/DIAGNOSE_ICD_hpo.csv'\n"
   ]
  },
  {
   "cell_type": "markdown",
   "metadata": {},
   "source": [
    "Load the data (takes about 4 seconds)\n",
    "\n",
    "If the data format is different, use `labevents_hpo_column_name` and `diagnoses_hpo_column_name` parameters"
   ]
  },
  {
   "cell_type": "code",
   "execution_count": null,
   "metadata": {},
   "outputs": [],
   "source": [
    "data = nn_data.LoadedData(HPO_PATH, LABEVENTS_HPO_PATH, DIAGNOSES_HPO_PATH)\n"
   ]
  },
  {
   "cell_type": "markdown",
   "metadata": {},
   "source": [
    "Process the data to get a list of relevant labevents and diagnoses."
   ]
  },
  {
   "cell_type": "code",
   "execution_count": null,
   "metadata": {},
   "outputs": [],
   "source": [
    "input_data = nn_data.HPODatasetCreator(data, 'labevents')\n",
    "target_data = nn_data.HPODatasetCreator(data, 'diagnoses')\n"
   ]
  },
  {
   "cell_type": "code",
   "execution_count": null,
   "metadata": {},
   "outputs": [],
   "source": [
    "subject_id = 10026\n",
    "labevents = input_data._subjects[subject_id]\n",
    "diagnoses = target_data._subjects[subject_id]"
   ]
  },
  {
   "cell_type": "markdown",
   "metadata": {},
   "source": [
    "Create the graph and draw it.\n",
    "\n",
    "If everything works, a picture should appear."
   ]
  },
  {
   "cell_type": "code",
   "execution_count": null,
   "metadata": {},
   "outputs": [],
   "source": [
    "g = utils.make_graph_2(data.hpo, labevents, diagnoses)\n",
    "g\n"
   ]
  }
 ],
 "metadata": {
  "interpreter": {
   "hash": "daceadcb7888934c6f7a76168830572155d751a6b865934a713a3e2629d639d6"
  },
  "kernelspec": {
   "display_name": "Python 3.10.4 64-bit",
   "language": "python",
   "name": "python3"
  },
  "language_info": {
   "codemirror_mode": {
    "name": "ipython",
    "version": 3
   },
   "file_extension": ".py",
   "mimetype": "text/x-python",
   "name": "python",
   "nbconvert_exporter": "python",
   "pygments_lexer": "ipython3",
   "version": "3.10.4"
  },
  "orig_nbformat": 4
 },
 "nbformat": 4,
 "nbformat_minor": 2
}
