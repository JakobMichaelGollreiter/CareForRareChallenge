{
 "cells": [
  {
   "cell_type": "code",
   "execution_count": null,
   "metadata": {},
   "outputs": [],
   "source": [
    "import nn_data\n",
    "import torch\n",
    "import torch.nn as nn\n",
    "import numpy as np"
   ]
  },
  {
   "cell_type": "code",
   "execution_count": null,
   "metadata": {},
   "outputs": [],
   "source": [
    "HPO_PATH = 'data/hp.obo'\n",
    "LABEVENTS_HPO_PATH = 'data/OUT_LABEVENTS_HPO.csv'\n",
    "DIAGNOSES_HPO_PATH = 'data/DIAGNOSE_ICD_hpo.csv'\n"
   ]
  },
  {
   "cell_type": "markdown",
   "metadata": {},
   "source": [
    "## Dataset loading"
   ]
  },
  {
   "cell_type": "code",
   "execution_count": null,
   "metadata": {},
   "outputs": [],
   "source": [
    "data = nn_data.LoadedData(HPO_PATH, LABEVENTS_HPO_PATH, DIAGNOSES_HPO_PATH)\n"
   ]
  },
  {
   "cell_type": "code",
   "execution_count": null,
   "metadata": {},
   "outputs": [],
   "source": [
    "input_data_creator = nn_data.HPODatasetCreator(data, mode='labevents', enable_parent_nodes=False)\n",
    "target_data_creator = nn_data.HPODatasetCreator(data, mode='diagnoses', enable_parent_nodes=False)\n"
   ]
  },
  {
   "cell_type": "markdown",
   "metadata": {},
   "source": [
    "## Model Creation"
   ]
  },
  {
   "cell_type": "markdown",
   "metadata": {},
   "source": [
    "### Dataset Creation"
   ]
  },
  {
   "cell_type": "code",
   "execution_count": null,
   "metadata": {},
   "outputs": [],
   "source": [
    "input_data: list[list[int]] = input_data_creator.data()\n",
    "target_data: list[list[int]] = target_data_creator.data()\n",
    "\n",
    "input_tensor = torch.FloatTensor(input_data)\n",
    "target_tensor = torch.FloatTensor(target_data)\n",
    "dataset = torch.utils.data.TensorDataset(input_tensor, target_tensor)\n",
    "\n",
    "# split dataset into training, validation and test\n",
    "train_size = int(len(input_data)*0.7)\n",
    "val_size = int(len(input_data)*0.2)\n",
    "test_size = len(input_data)-(train_size + val_size)\n",
    "\n",
    "train_set, val_set, test_set = torch.utils.data.random_split(\n",
    "    dataset, [train_size, val_size, test_size])\n"
   ]
  },
  {
   "cell_type": "markdown",
   "metadata": {},
   "source": [
    "### Model generation"
   ]
  },
  {
   "cell_type": "code",
   "execution_count": null,
   "metadata": {},
   "outputs": [],
   "source": [
    "# Model Parameter\n",
    "enlarging_factor = 1.4\n",
    "input_size = len(input_data[0])\n",
    "output_size = len(target_data[0])\n",
    "hidden_size = int(input_size*enlarging_factor)\n"
   ]
  },
  {
   "cell_type": "code",
   "execution_count": null,
   "metadata": {},
   "outputs": [],
   "source": [
    "# device selection, where NN is trained\n",
    "device = torch.device('cuda' if torch.cuda.is_available() else 'cpu')\n",
    "\n",
    "l1 = nn.Linear(input_size, hidden_size)\n",
    "nn.init.xavier_uniform_(l1.weight)\n",
    "l2 = nn.Linear(hidden_size, hidden_size)\n",
    "nn.init.xavier_uniform_(l2.weight)\n",
    "l3 = nn.Linear(hidden_size, output_size)\n",
    "nn.init.xavier_uniform_(l3.weight)\n",
    "\n",
    "# define model architecture and move to cuda\n",
    "model = nn.Sequential(\n",
    "    l1,\n",
    "    nn.Tanh(),\n",
    "    l2,\n",
    "    nn.Tanh(),\n",
    "    l3,\n",
    "    nn.Sigmoid()\n",
    ")\n",
    "_ = model.to(device)\n"
   ]
  },
  {
   "cell_type": "code",
   "execution_count": null,
   "metadata": {},
   "outputs": [],
   "source": [
    "# trainingparameters\n",
    "batch_size = 8\n",
    "learning_rate = 1e-4\n",
    "num_epochs = 10\n",
    "log_rhythm = 5\n"
   ]
  },
  {
   "cell_type": "code",
   "execution_count": null,
   "metadata": {},
   "outputs": [],
   "source": [
    "# Bestimmung des Optimizers, standard: Adam\n",
    "optimizer = torch.optim.Adam(\n",
    "    model.parameters(),\n",
    "    lr=learning_rate,\n",
    "    betas=(0.9, 0.999),\n",
    ")\n",
    "\n",
    "# Try out of SGD with Momentum\n",
    "# Result: Worse than Adam\n",
    "\n",
    "# optimizer = torch.optim.SGD(\n",
    "# model.parameters(),\n",
    "# lr=learning_rate,\n",
    "# momentum=0.9\n",
    "# )\n"
   ]
  },
  {
   "cell_type": "code",
   "execution_count": null,
   "metadata": {},
   "outputs": [],
   "source": [
    "# definition of loss function\n",
    "loss_func = nn.CrossEntropyLoss()\n",
    "# usefullness od CrossEntropyLoss determined experimentally, best among available pytorch loss functions\n"
   ]
  },
  {
   "cell_type": "code",
   "execution_count": null,
   "metadata": {},
   "outputs": [],
   "source": [
    "# definition of accuracy function\n",
    "def calc_accuracy(output, target) -> float:\n",
    "    result = np.zeros(output.shape)\n",
    "\n",
    "    number_of_features = target.sum(axis=1)\n",
    "    correctly_identified = (target * np.sqrt(output)).sum(axis=1)\n",
    "    return np.mean(correctly_identified / (number_of_features + .00001))\n"
   ]
  },
  {
   "cell_type": "code",
   "execution_count": null,
   "metadata": {},
   "outputs": [],
   "source": [
    "# definition of real effect function\n",
    "def real_effect(outputs, targets):\n",
    "    correct_diagnosed = 0\n",
    "    false_positive = 0\n",
    "    false_negative = 0\n",
    "    total_to_diagnose = sum(targets[0])\n",
    "\n",
    "    for i in range(len(outputs[0])):\n",
    "        if(outputs[0, i] >= 0.5 and targets[0, i] == 1):\n",
    "            correct_diagnosed += 1\n",
    "        if(outputs[0, i] < 0.5 and targets[0, i] == 1):\n",
    "            false_negative += 1\n",
    "        if(outputs[0, i] > 0.5 and targets[0, i] == 0):\n",
    "            false_positive += 1\n",
    "\n",
    "    print(\"Correct diagnoses:\" f'{correct_diagnosed}/{total_to_diagnose}')\n",
    "    print(\"False positives:\" f'{false_positive}')\n",
    "    print(\"False negatives:\" f'{false_negative}\\n')\n"
   ]
  },
  {
   "cell_type": "markdown",
   "metadata": {},
   "source": [
    "### Creation of datapipeline"
   ]
  },
  {
   "cell_type": "code",
   "execution_count": null,
   "metadata": {},
   "outputs": [],
   "source": [
    "# Erstellung der Dataloader\n",
    "\n",
    "train_loader = torch.utils.data.DataLoader(\n",
    "    train_set, batch_size=batch_size, shuffle=True)\n",
    "val_loader = torch.utils.data.DataLoader(\n",
    "    val_set, batch_size=batch_size, shuffle=False)\n",
    "test_loader = torch.utils.data.DataLoader(\n",
    "    test_set, batch_size=1, shuffle=False)\n"
   ]
  },
  {
   "cell_type": "markdown",
   "metadata": {},
   "source": [
    "### Training"
   ]
  },
  {
   "cell_type": "code",
   "execution_count": null,
   "metadata": {},
   "outputs": [],
   "source": [
    "val_loss_history = []\n",
    "val_acc_history = []\n",
    "for epoch in range(num_epochs):\n",
    "    print(f'[Epoch {epoch+1}/{num_epochs}]')\n",
    "\n",
    "    train_loss_history = []\n",
    "    train_acc_history = []\n",
    "\n",
    "    for i, (inputs, targets) in enumerate(train_loader, 1):\n",
    "        inputs, targets = inputs.to(device), targets.to(device)\n",
    "\n",
    "        optimizer.zero_grad()\n",
    "        outputs = model(inputs)\n",
    "        loss = loss_func(outputs, targets)\n",
    "        loss.backward()\n",
    "        optimizer.step()\n",
    "\n",
    "        # Loss output after log_rhythm of iterations\n",
    "        train_loss_history.append(loss.cpu().detach().numpy())\n",
    "        train_acc_history.append(calc_accuracy(\n",
    "            outputs.cpu().detach().numpy(), targets.cpu().detach().numpy()))\n",
    "\n",
    "        if i % log_rhythm == 0:\n",
    "            last_log_rhythm_losses = train_loss_history[-log_rhythm:]\n",
    "            train_loss = np.mean(last_log_rhythm_losses)\n",
    "\n",
    "            # train_acc_history.flatten()\n",
    "            last_log_rhythm_acc = train_acc_history[-log_rhythm:]\n",
    "            train_acc = np.mean(last_log_rhythm_acc)\n",
    "\n",
    "            print(\n",
    "                f'[Iteration {i}]\\tTRAIN      loss/acc: {train_loss:.3f}\\t{train_acc:.3f}')\n",
    "\n",
    "        # Acc computation during after log_rhythm of iterations\n",
    "\n",
    "    # Loss and acc output after an epoch\n",
    "    train_loss = np.mean(train_loss_history)\n",
    "    train_acc = np.mean(train_acc_history)\n",
    "    print(\n",
    "        f'for this epoch:\\tTRAIN      loss/acc: {train_loss:.3f}\\t{train_acc:.3f}')\n",
    "\n",
    "    # Validation after an epoch\n",
    "    val_losses = []\n",
    "    val_acc = []\n",
    "    model.eval()\n",
    "    for inputs, targets in val_loader:\n",
    "        inputs, targets = inputs.to(device), targets.to(device)\n",
    "\n",
    "        outputs = model(inputs)\n",
    "        loss = loss_func(outputs, targets)\n",
    "        val_losses.append(loss.detach().cpu().numpy())\n",
    "        val_acc.append(calc_accuracy(\n",
    "            outputs.cpu().detach().numpy(), targets.cpu().detach().numpy()))\n",
    "\n",
    "    # Training step after an epoch\n",
    "    model.train()\n",
    "\n",
    "    val_loss = np.mean(val_losses)\n",
    "    val_acc = np.mean(val_acc)\n",
    "\n",
    "    # Output of Validation loss\n",
    "    val_loss_history.append(val_loss)\n",
    "    print(f'\\t\\tVALIDATION loss/acc: {val_loss:.3f}\\t{val_acc:.3f}')\n",
    "    real_effect(outputs, targets)\n",
    "    print(\"\\n\")\n"
   ]
  },
  {
   "cell_type": "markdown",
   "metadata": {},
   "source": [
    "### Testing"
   ]
  },
  {
   "cell_type": "code",
   "execution_count": null,
   "metadata": {},
   "outputs": [],
   "source": [
    "test_acc = []\n",
    "for inputs, targets in test_loader:\n",
    "\n",
    "    inputs, targets = inputs.to(device), targets.to(device)\n",
    "\n",
    "    outputs = model(inputs)\n",
    "    test_acc.append(calc_accuracy(\n",
    "        outputs.cpu().detach().numpy(), targets.cpu().detach().numpy()))\n",
    "    real_effect(outputs, targets)\n",
    "\n",
    "\n",
    "test_acc = np.mean(test_acc)\n",
    "\n",
    "print(f'Test Accuracy: {test_acc:.3f}')\n",
    "\n",
    "for i in range(len(outputs[0])):\n",
    "    print(\n",
    "        f'{target_data_creator.feature_list[i]}\\t{outputs[0,i]:.2f}\\t{\"X\" if targets[0,i] > 0 else \" \"}')\n"
   ]
  }
 ],
 "metadata": {
  "interpreter": {
   "hash": "daceadcb7888934c6f7a76168830572155d751a6b865934a713a3e2629d639d6"
  },
  "kernelspec": {
   "display_name": "Python 3 (ipykernel)",
   "language": "python",
   "name": "python3"
  },
  "language_info": {
   "codemirror_mode": {
    "name": "ipython",
    "version": 3
   },
   "file_extension": ".py",
   "mimetype": "text/x-python",
   "name": "python",
   "nbconvert_exporter": "python",
   "pygments_lexer": "ipython3",
   "version": "3.10.4"
  }
 },
 "nbformat": 4,
 "nbformat_minor": 2
}
