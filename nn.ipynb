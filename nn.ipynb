{
 "cells": [
  {
   "cell_type": "code",
   "execution_count": null,
   "metadata": {},
   "outputs": [],
   "source": [
    "import utils\n",
    "import pandas as pd\n"
   ]
  },
  {
   "cell_type": "code",
   "execution_count": null,
   "metadata": {},
   "outputs": [],
   "source": [
    "HPO_PATH = 'data/hp.obo'\n",
    "LABEVENTS_HPO_PATH = 'data/OUT_LABEVENTS_HPO.csv'\n",
    "DIAGNOSES_HPO_PATH = 'data/DIAGNOSE_ICD_hpo.csv'\n"
   ]
  },
  {
   "cell_type": "code",
   "execution_count": null,
   "metadata": {},
   "outputs": [],
   "source": [
    "hpo = utils.read_hpo_from_obo(HPO_PATH)\n",
    "labevents_df = pd.read_csv(LABEVENTS_HPO_PATH).fillna('')\n",
    "diagnoses_df = pd.read_csv(DIAGNOSES_HPO_PATH).fillna('')\n"
   ]
  },
  {
   "cell_type": "code",
   "execution_count": null,
   "metadata": {},
   "outputs": [],
   "source": [
    "class Subject:\n",
    "    def __init__(self, id):\n",
    "        self.id = id\n",
    "        self.labevents: set[str] = set()\n",
    "        self.diagnoses: set[str] = set()\n",
    "\n",
    "    def labevent_vector(self, feature_list: list[str]):\n",
    "        return [int(feature in self.labevents) for feature in feature_list]\n",
    "\n",
    "    def diagnoses_vector(self, feature_list: list[str]):\n",
    "        return [int(feature in self.diagnoses) for feature in feature_list]\n",
    "\n",
    "    def __repr__(self) -> str:\n",
    "        return f'<Subject {self.id}>'\n"
   ]
  },
  {
   "cell_type": "code",
   "execution_count": null,
   "metadata": {},
   "outputs": [],
   "source": [
    "subjects: dict[int, Subject] = {}\n",
    "all_present_hpo_features: set[str] = set()\n"
   ]
  },
  {
   "cell_type": "code",
   "execution_count": null,
   "metadata": {},
   "outputs": [],
   "source": [
    "for _, line in labevents_df.iterrows():\n",
    "    subject_id = line.subject_id\n",
    "    if line.selected_hpo_features != '':\n",
    "        hpo_features = line.selected_hpo_features.split(';')\n",
    "        all_present_hpo_features.update(hpo_features)\n",
    "        subjects.setdefault(subject_id, Subject(subject_id)).labevents.update(hpo_features)\n"
   ]
  },
  {
   "cell_type": "code",
   "execution_count": null,
   "metadata": {},
   "outputs": [],
   "source": [
    "for _, line in diagnoses_df.iterrows():\n",
    "    subject_id = line.subject_id\n",
    "    if line.hpo_features != '':\n",
    "        hpo_features = line.hpo_features.split(';')\n",
    "        all_present_hpo_features.update(hpo_features)\n",
    "        subjects.setdefault(subject_id, Subject(subject_id)).diagnoses.update(hpo_features)\n"
   ]
  },
  {
   "cell_type": "code",
   "execution_count": null,
   "metadata": {},
   "outputs": [],
   "source": [
    "feature_list = [e for e in all_present_hpo_features]\n",
    "hpo_to_id = {feature: i for i, feature in enumerate(feature_list)}\n"
   ]
  },
  {
   "cell_type": "code",
   "execution_count": null,
   "metadata": {},
   "outputs": [],
   "source": [
    "subjects[10006].labevent_vector(feature_list)\n",
    "subjects[10006].diagnoses_vector(feature_list)"
   ]
  }
 ],
 "metadata": {
  "interpreter": {
   "hash": "daceadcb7888934c6f7a76168830572155d751a6b865934a713a3e2629d639d6"
  },
  "kernelspec": {
   "display_name": "Python 3.10.4 64-bit",
   "language": "python",
   "name": "python3"
  },
  "language_info": {
   "codemirror_mode": {
    "name": "ipython",
    "version": 3
   },
   "file_extension": ".py",
   "mimetype": "text/x-python",
   "name": "python",
   "nbconvert_exporter": "python",
   "pygments_lexer": "ipython3",
   "version": "3.10.4"
  },
  "orig_nbformat": 4
 },
 "nbformat": 4,
 "nbformat_minor": 2
}
