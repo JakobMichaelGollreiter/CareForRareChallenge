{
 "cells": [
  {
   "cell_type": "code",
   "execution_count": 1,
   "metadata": {},
   "outputs": [],
   "source": [
    "import nn_data\n",
    "import torch\n",
    "import torch.nn as nn\n",
    "import numpy as np"
   ]
  },
  {
   "cell_type": "code",
   "execution_count": 2,
   "metadata": {},
   "outputs": [],
   "source": [
    "HPO_PATH = 'data/hp.obo'\n",
    "LABEVENTS_HPO_PATH = 'data/OUT_LABEVENTS_HPO.csv'\n",
    "DIAGNOSES_HPO_PATH = 'data/DIAGNOSE_ICD_hpo.csv'\n"
   ]
  },
  {
   "cell_type": "markdown",
   "metadata": {},
   "source": [
    "## Dataset loading"
   ]
  },
  {
   "cell_type": "code",
   "execution_count": 3,
   "metadata": {},
   "outputs": [],
   "source": [
    "data = nn_data.load_data(HPO_PATH, LABEVENTS_HPO_PATH, DIAGNOSES_HPO_PATH)\n"
   ]
  },
  {
   "cell_type": "code",
   "execution_count": 4,
   "metadata": {},
   "outputs": [],
   "source": [
    "creator = nn_data.DatasetCreator(data, enable_parent_nodes=False, enable_input_in_output=False)\n"
   ]
  },
  {
   "cell_type": "markdown",
   "metadata": {},
   "source": [
    "## Model Creation"
   ]
  },
  {
   "cell_type": "markdown",
   "metadata": {},
   "source": [
    "### Dataset Creation"
   ]
  },
  {
   "cell_type": "code",
   "execution_count": 5,
   "metadata": {},
   "outputs": [],
   "source": [
    "# Dataloader, lädt die Daten aus der Tabelle in List\n",
    "input_data: list[list[int]] = creator.input_data_one_hot()\n",
    "target_data: list[list[int]] = creator.target_data_one_hot()\n",
    "\n",
    "input_tensor, target_tensor = torch.FloatTensor(input_data), torch.FloatTensor(target_data)\n",
    "\n",
    "# Unterteilung der List in 3 sets\n",
    "train_size = int(len(input_data)*0.7)\n",
    "val_size = int(len(input_data)*0.2)\n",
    "test_size = len(input_data)-(train_size + val_size)\n",
    "\n",
    "dataset = torch.utils.data.TensorDataset(input_tensor, target_tensor)\n",
    "\n",
    "train_set, val_set, test_set = torch.utils.data.random_split(dataset, [train_size, val_size, test_size])"
   ]
  },
  {
   "cell_type": "markdown",
   "metadata": {},
   "source": [
    "### Model generation"
   ]
  },
  {
   "cell_type": "code",
   "execution_count": 6,
   "metadata": {},
   "outputs": [
    {
     "ename": "NameError",
     "evalue": "name 'feature_list' is not defined",
     "output_type": "error",
     "traceback": [
      "\u001b[1;31m---------------------------------------------------------------------------\u001b[0m",
      "\u001b[1;31mNameError\u001b[0m                                 Traceback (most recent call last)",
      "\u001b[1;32me:\\dev\\entelegent\\nn.ipynb Cell 10'\u001b[0m in \u001b[0;36m<cell line: 3>\u001b[1;34m()\u001b[0m\n\u001b[0;32m      <a href='vscode-notebook-cell:/e%3A/dev/entelegent/nn.ipynb#ch0000012?line=0'>1</a>\u001b[0m \u001b[39m# Model Parameter\u001b[39;00m\n\u001b[0;32m      <a href='vscode-notebook-cell:/e%3A/dev/entelegent/nn.ipynb#ch0000012?line=1'>2</a>\u001b[0m enlarging_factor \u001b[39m=\u001b[39m \u001b[39m1.2\u001b[39m\n\u001b[1;32m----> <a href='vscode-notebook-cell:/e%3A/dev/entelegent/nn.ipynb#ch0000012?line=2'>3</a>\u001b[0m input_size \u001b[39m=\u001b[39m \u001b[39mlen\u001b[39m(feature_list)\n\u001b[0;32m      <a href='vscode-notebook-cell:/e%3A/dev/entelegent/nn.ipynb#ch0000012?line=3'>4</a>\u001b[0m output_size \u001b[39m=\u001b[39m \u001b[39mlen\u001b[39m(feature_list)\n\u001b[0;32m      <a href='vscode-notebook-cell:/e%3A/dev/entelegent/nn.ipynb#ch0000012?line=4'>5</a>\u001b[0m hidden_size \u001b[39m=\u001b[39m \u001b[39mint\u001b[39m(input_size\u001b[39m*\u001b[39menlarging_factor)\n",
      "\u001b[1;31mNameError\u001b[0m: name 'feature_list' is not defined"
     ]
    }
   ],
   "source": [
    "# Model Parameter\n",
    "enlarging_factor = 1.2\n",
    "input_size = len(input_data[0])\n",
    "output_size = len(target_data[0])\n",
    "hidden_size = int(input_size*enlarging_factor)"
   ]
  },
  {
   "cell_type": "code",
   "execution_count": null,
   "metadata": {},
   "outputs": [],
   "source": [
    "#device selection, where NN is trained\n",
    "device = torch.device('cuda' if torch.cuda.is_available() else 'cpu')\n",
    "\n",
    "l1 = nn.Linear(input_size, hidden_size)\n",
    "nn.init.xavier_uniform_(l1.weight)\n",
    "l2 = nn.Linear(hidden_size, hidden_size)\n",
    "nn.init.xavier_uniform_(l2.weight)\n",
    "l3 = nn.Linear(hidden_size, output_size)\n",
    "nn.init.xavier_uniform_(l3.weight)\n",
    "\n",
    "# define model architecture and move to cuda\n",
    "model = nn.Sequential(\n",
    "    l1,\n",
    "    nn.Tanh(),\n",
    "    l2,\n",
    "    nn.Tanh(),\n",
    "    l3,\n",
    "    nn.Sigmoid()\n",
    ")  \n",
    "model.to(device)   "
   ]
  },
  {
   "cell_type": "code",
   "execution_count": null,
   "metadata": {},
   "outputs": [],
   "source": [
    "# Trainingsparameter\n",
    "\n",
    "batch_size = 8\n",
    "learning_rate = 1e-4        \n",
    "num_epochs = 20\n",
    "log_rhythm = 5"
   ]
  },
  {
   "cell_type": "code",
   "execution_count": null,
   "metadata": {},
   "outputs": [],
   "source": [
    "# Bestimmung des Optimizers\n",
    "\n",
    "optimizer = torch.optim.Adam(\n",
    "    model.parameters(),\n",
    "    lr=learning_rate,\n",
    "    betas=(0.9, 0.999),\n",
    "    ) "
   ]
  },
  {
   "cell_type": "code",
   "execution_count": null,
   "metadata": {},
   "outputs": [],
   "source": [
    "# definition of loss function\n",
    "loss_func = nn.CrossEntropyLoss()"
   ]
  },
  {
   "cell_type": "code",
   "execution_count": null,
   "metadata": {},
   "outputs": [],
   "source": [
    "# definition of accuracy function\n",
    "def calc_accuracy(output, target)->float:\n",
    "    result = np.zeros(output.shape)\n",
    "    \n",
    "    number_of_features = target.sum(axis=1)\n",
    "    correctly_identified = (target * np.sqrt(output)).sum(axis=1)\n",
    "    return np.mean(correctly_identified / (number_of_features + .00001))"
   ]
  },
  {
   "cell_type": "code",
   "execution_count": null,
   "metadata": {},
   "outputs": [],
   "source": [
    "# definition of real effect function\n",
    "def real_effect(outputs, targets):\n",
    "    correct_diagnosed = 0\n",
    "    false_positive = 0\n",
    "    false_negative = 0\n",
    "    total_to_diagnose = sum(targets[0])\n",
    "    \n",
    "    for i in range(len(outputs[0])):\n",
    "        if(outputs[0,i]>=0.5 and targets[0,i]==1):\n",
    "            correct_diagnosed += 1\n",
    "        if(outputs[0,i]<0.5 and targets[0,i]==1):\n",
    "            false_negative += 1\n",
    "        if(outputs[0,i]>0.5 and targets[0,i]==0):\n",
    "            false_positive += 1\n",
    "            \n",
    "    print(\"Correct diagnoses:\" f'{correct_diagnosed}/{total_to_diagnose}')\n",
    "    print(\"False positives:\" f'{false_positive}')\n",
    "    print(\"False negatives:\" f'{false_negative}\\n')\n",
    "    "
   ]
  },
  {
   "cell_type": "markdown",
   "metadata": {},
   "source": [
    "### Creation of datapipeline"
   ]
  },
  {
   "cell_type": "code",
   "execution_count": null,
   "metadata": {},
   "outputs": [],
   "source": [
    "# Erstellung der Dataloader\n",
    "\n",
    "train_loader = torch.utils.data.DataLoader(train_set,batch_size=batch_size, shuffle=True)\n",
    "val_loader = torch.utils.data.DataLoader(val_set, batch_size=batch_size, shuffle=False)\n",
    "test_loader = torch.utils.data.DataLoader(test_set, batch_size=1, shuffle=True)"
   ]
  },
  {
   "cell_type": "markdown",
   "metadata": {},
   "source": [
    "### Training"
   ]
  },
  {
   "cell_type": "code",
   "execution_count": null,
   "metadata": {},
   "outputs": [],
   "source": [
    "val_loss_history = []\n",
    "val_acc_history = []\n",
    "for epoch in range(num_epochs):\n",
    "    print(f'[Epoch {epoch+1}/{num_epochs}]')\n",
    "    \n",
    "    train_loss_history = []\n",
    "    train_acc_history = []\n",
    "    \n",
    "    for i, (inputs, targets) in enumerate(train_loader, 1):\n",
    "        inputs, targets = inputs.to(device), targets.to(device)\n",
    "        \n",
    "        optimizer.zero_grad()\n",
    "        outputs = model(inputs)\n",
    "        loss = loss_func(outputs, targets)\n",
    "        loss.backward()\n",
    "        optimizer.step()\n",
    "        \n",
    "        # Loss output after log_rhythm of iterations\n",
    "        train_loss_history.append(loss.cpu().detach().numpy())\n",
    "        train_acc_history.append(calc_accuracy(outputs.cpu().detach().numpy(), targets.cpu().detach().numpy()))\n",
    "        \n",
    "        \n",
    "        \n",
    "        \n",
    "        if i % log_rhythm == 0:\n",
    "            last_log_rhythm_losses = train_loss_history[-log_rhythm:]\n",
    "            train_loss = np.mean(last_log_rhythm_losses)\n",
    "            \n",
    "            #train_acc_history.flatten()\n",
    "            last_log_rhythm_acc = train_acc_history[-log_rhythm:]\n",
    "            train_acc = np.mean(last_log_rhythm_acc)\n",
    "            \n",
    "            print(f'[Iteration {i}]\\tTRAIN      loss/acc: {train_loss:.3f}\\t{train_acc:.3f}')\n",
    "        \n",
    "        # Acc computation during after log_rhythm of iterations\n",
    "        \n",
    "    # Loss and acc output after an epoch        \n",
    "    train_loss =  np.mean(train_loss_history)\n",
    "    train_acc = np.mean(train_acc_history)\n",
    "    print(f'for this epoch:\\tTRAIN      loss/acc: {train_loss:.3f}\\t{train_acc:.3f}')\n",
    "\n",
    "        \n",
    "    # Validation after an epoch\n",
    "    val_losses = []\n",
    "    val_acc = []\n",
    "    model.eval()\n",
    "    for inputs, targets in val_loader:\n",
    "        inputs, targets = inputs.to(device), targets.to(device)\n",
    "\n",
    "        outputs = model(inputs)\n",
    "        loss = loss_func(outputs, targets)\n",
    "        val_losses.append(loss.detach().cpu().numpy())\n",
    "        val_acc.append(calc_accuracy(outputs.cpu().detach().numpy(), targets.cpu().detach().numpy()))\n",
    "    \n",
    "    # Training step after an epoch\n",
    "    model.train()\n",
    "    \n",
    "    val_loss =  np.mean(val_losses)\n",
    "    val_acc = np.mean(val_acc)\n",
    "    \n",
    "    # Output of Validation loss\n",
    "    val_loss_history.append(val_loss)\n",
    "    print(f'\\t\\tVALIDATION loss/acc: {val_loss:.3f}\\t{val_acc:.3f}')\n",
    "    real_effect(outputs, targets)\n",
    "    print(\"\\n\")\n",
    "    "
   ]
  },
  {
   "cell_type": "markdown",
   "metadata": {},
   "source": [
    "### Testing"
   ]
  },
  {
   "cell_type": "code",
   "execution_count": null,
   "metadata": {},
   "outputs": [],
   "source": [
    "test_acc = []\n",
    "for inputs, targets in test_loader:\n",
    "    \n",
    "    inputs, targets = inputs.to(device), targets.to(device)\n",
    "\n",
    "    outputs = model(inputs)\n",
    "    test_acc.append(calc_accuracy(outputs.cpu().detach().numpy(), targets.cpu().detach().numpy()))\n",
    "    real_effect(outputs, targets)\n",
    "\n",
    "    \n",
    "test_acc = np.mean(test_acc)\n",
    "\n",
    "print(f'Test Accuracy: {test_acc:.3f}')\n",
    "\n",
    "for i in range(len(outputs[0])):\n",
    "    print(f'{creator.feature_list[i]}\\t{outputs[0,i]:.2f}\\t{\"X\" if targets[0,i] > 0 else \" \"}')"
   ]
  },
  {
   "cell_type": "code",
   "execution_count": null,
   "metadata": {},
   "outputs": [],
   "source": []
  }
 ],
 "metadata": {
  "interpreter": {
   "hash": "daceadcb7888934c6f7a76168830572155d751a6b865934a713a3e2629d639d6"
  },
  "kernelspec": {
   "display_name": "Python 3 (ipykernel)",
   "language": "python",
   "name": "python3"
  },
  "language_info": {
   "codemirror_mode": {
    "name": "ipython",
    "version": 3
   },
   "file_extension": ".py",
   "mimetype": "text/x-python",
   "name": "python",
   "nbconvert_exporter": "python",
   "pygments_lexer": "ipython3",
   "version": "3.10.4"
  }
 },
 "nbformat": 4,
 "nbformat_minor": 2
}
